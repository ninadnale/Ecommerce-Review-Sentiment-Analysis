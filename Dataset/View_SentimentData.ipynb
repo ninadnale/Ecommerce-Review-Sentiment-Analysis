{
 "cells": [
  {
   "cell_type": "code",
   "execution_count": 2,
   "metadata": {},
   "outputs": [
    {
     "data": {
      "text/html": [
       "<div>\n",
       "<style scoped>\n",
       "    .dataframe tbody tr th:only-of-type {\n",
       "        vertical-align: middle;\n",
       "    }\n",
       "\n",
       "    .dataframe tbody tr th {\n",
       "        vertical-align: top;\n",
       "    }\n",
       "\n",
       "    .dataframe thead th {\n",
       "        text-align: right;\n",
       "    }\n",
       "</style>\n",
       "<table border=\"1\" class=\"dataframe\">\n",
       "  <thead>\n",
       "    <tr style=\"text-align: right;\">\n",
       "      <th></th>\n",
       "      <th>Unnamed: 0</th>\n",
       "      <th>Unnamed: 0.1</th>\n",
       "      <th>reviewerID</th>\n",
       "      <th>asin</th>\n",
       "      <th>reviewerName</th>\n",
       "      <th>reviewText</th>\n",
       "      <th>overall</th>\n",
       "      <th>summary</th>\n",
       "      <th>product_name</th>\n",
       "      <th>brand</th>\n",
       "      <th>category</th>\n",
       "      <th>price</th>\n",
       "      <th>SENTIMENT</th>\n",
       "    </tr>\n",
       "  </thead>\n",
       "  <tbody>\n",
       "    <tr>\n",
       "      <th>0</th>\n",
       "      <td>0</td>\n",
       "      <td>54</td>\n",
       "      <td>A1PMGOX24BWDAZ</td>\n",
       "      <td>7887421268</td>\n",
       "      <td>0902virgo</td>\n",
       "      <td>I loved the case when I first received it but ...</td>\n",
       "      <td>2</td>\n",
       "      <td>Loved it at first</td>\n",
       "      <td>Black And Pink Leopard Rubberized Snap on Desi...</td>\n",
       "      <td>Generic</td>\n",
       "      <td>['Cell Phones &amp; Accessories', 'Cases, Holsters...</td>\n",
       "      <td>$5.95</td>\n",
       "      <td>1</td>\n",
       "    </tr>\n",
       "    <tr>\n",
       "      <th>1</th>\n",
       "      <td>1</td>\n",
       "      <td>55</td>\n",
       "      <td>A115GM0PI28KP5</td>\n",
       "      <td>7887421268</td>\n",
       "      <td>California Love</td>\n",
       "      <td>The color is more dark in person, and this isn...</td>\n",
       "      <td>4</td>\n",
       "      <td>Cute</td>\n",
       "      <td>Black And Pink Leopard Rubberized Snap on Desi...</td>\n",
       "      <td>Generic</td>\n",
       "      <td>['Cell Phones &amp; Accessories', 'Cases, Holsters...</td>\n",
       "      <td>$5.95</td>\n",
       "      <td>1</td>\n",
       "    </tr>\n",
       "    <tr>\n",
       "      <th>2</th>\n",
       "      <td>2</td>\n",
       "      <td>56</td>\n",
       "      <td>A2AOF16F78BQK6</td>\n",
       "      <td>7887421268</td>\n",
       "      <td>C. Paul Douglas</td>\n",
       "      <td>Simple to install and a great way to help prot...</td>\n",
       "      <td>5</td>\n",
       "      <td>Simple and Attractive Protector</td>\n",
       "      <td>Black And Pink Leopard Rubberized Snap on Desi...</td>\n",
       "      <td>Generic</td>\n",
       "      <td>['Cell Phones &amp; Accessories', 'Cases, Holsters...</td>\n",
       "      <td>$5.95</td>\n",
       "      <td>1</td>\n",
       "    </tr>\n",
       "    <tr>\n",
       "      <th>3</th>\n",
       "      <td>3</td>\n",
       "      <td>57</td>\n",
       "      <td>A2LFBAQ1CPDWNY</td>\n",
       "      <td>7887421268</td>\n",
       "      <td>Davonne</td>\n",
       "      <td>The case is pretty good. It dose have some scr...</td>\n",
       "      <td>4</td>\n",
       "      <td>Good Case</td>\n",
       "      <td>Black And Pink Leopard Rubberized Snap on Desi...</td>\n",
       "      <td>Generic</td>\n",
       "      <td>['Cell Phones &amp; Accessories', 'Cases, Holsters...</td>\n",
       "      <td>$5.95</td>\n",
       "      <td>1</td>\n",
       "    </tr>\n",
       "    <tr>\n",
       "      <th>4</th>\n",
       "      <td>4</td>\n",
       "      <td>58</td>\n",
       "      <td>A22PJG27JHKWPA</td>\n",
       "      <td>7887421268</td>\n",
       "      <td>ddmmt9</td>\n",
       "      <td>This case is afordable and yes it peels very e...</td>\n",
       "      <td>4</td>\n",
       "      <td>This case is exactly as described</td>\n",
       "      <td>Black And Pink Leopard Rubberized Snap on Desi...</td>\n",
       "      <td>Generic</td>\n",
       "      <td>['Cell Phones &amp; Accessories', 'Cases, Holsters...</td>\n",
       "      <td>$5.95</td>\n",
       "      <td>0</td>\n",
       "    </tr>\n",
       "    <tr>\n",
       "      <th>...</th>\n",
       "      <td>...</td>\n",
       "      <td>...</td>\n",
       "      <td>...</td>\n",
       "      <td>...</td>\n",
       "      <td>...</td>\n",
       "      <td>...</td>\n",
       "      <td>...</td>\n",
       "      <td>...</td>\n",
       "      <td>...</td>\n",
       "      <td>...</td>\n",
       "      <td>...</td>\n",
       "      <td>...</td>\n",
       "      <td>...</td>\n",
       "    </tr>\n",
       "    <tr>\n",
       "      <th>33360</th>\n",
       "      <td>33360</td>\n",
       "      <td>139311</td>\n",
       "      <td>A9PG9ODPPP31N</td>\n",
       "      <td>B00KMGHPYQ</td>\n",
       "      <td>Beth Chrisinger</td>\n",
       "      <td>Fit the phone perfectly, Product was just as d...</td>\n",
       "      <td>5</td>\n",
       "      <td>Great Product</td>\n",
       "      <td>MXX Shatterproof Premium Tempered Glass Screen...</td>\n",
       "      <td>MXX</td>\n",
       "      <td>['Cell Phones &amp; Accessories', 'Accessories', '...</td>\n",
       "      <td>$4.55</td>\n",
       "      <td>1</td>\n",
       "    </tr>\n",
       "    <tr>\n",
       "      <th>33361</th>\n",
       "      <td>33361</td>\n",
       "      <td>139312</td>\n",
       "      <td>A1YMNTFLNDYQ1F</td>\n",
       "      <td>B00KMGHPYQ</td>\n",
       "      <td>eyeused2loveher</td>\n",
       "      <td>Love it, makes my Iphone 4s shatterproof, very...</td>\n",
       "      <td>5</td>\n",
       "      <td>Nice tempered glass!</td>\n",
       "      <td>MXX Shatterproof Premium Tempered Glass Screen...</td>\n",
       "      <td>MXX</td>\n",
       "      <td>['Cell Phones &amp; Accessories', 'Accessories', '...</td>\n",
       "      <td>$4.55</td>\n",
       "      <td>0</td>\n",
       "    </tr>\n",
       "    <tr>\n",
       "      <th>33362</th>\n",
       "      <td>33362</td>\n",
       "      <td>139313</td>\n",
       "      <td>A3JI7QRZO1QG8X</td>\n",
       "      <td>B00KMGHPYQ</td>\n",
       "      <td>Joyce M. Davidson</td>\n",
       "      <td>Wow!  This is fantastic. I was a little skepti...</td>\n",
       "      <td>5</td>\n",
       "      <td>Fantastic</td>\n",
       "      <td>MXX Shatterproof Premium Tempered Glass Screen...</td>\n",
       "      <td>MXX</td>\n",
       "      <td>['Cell Phones &amp; Accessories', 'Accessories', '...</td>\n",
       "      <td>$4.55</td>\n",
       "      <td>1</td>\n",
       "    </tr>\n",
       "    <tr>\n",
       "      <th>33363</th>\n",
       "      <td>33363</td>\n",
       "      <td>139314</td>\n",
       "      <td>A2HT05OASZO53B</td>\n",
       "      <td>B00KMGHPYQ</td>\n",
       "      <td>Margo J. Jablonski</td>\n",
       "      <td>This  screen protector works greatIt was very ...</td>\n",
       "      <td>5</td>\n",
       "      <td>great product</td>\n",
       "      <td>MXX Shatterproof Premium Tempered Glass Screen...</td>\n",
       "      <td>MXX</td>\n",
       "      <td>['Cell Phones &amp; Accessories', 'Accessories', '...</td>\n",
       "      <td>$4.55</td>\n",
       "      <td>1</td>\n",
       "    </tr>\n",
       "    <tr>\n",
       "      <th>33364</th>\n",
       "      <td>33364</td>\n",
       "      <td>139315</td>\n",
       "      <td>A1Y3FEUELH3FTI</td>\n",
       "      <td>B00KMGHPYQ</td>\n",
       "      <td>Onlinesalesgirl</td>\n",
       "      <td>This is magnificent! Easy to install, Must hav...</td>\n",
       "      <td>5</td>\n",
       "      <td>A++ for Iphone</td>\n",
       "      <td>MXX Shatterproof Premium Tempered Glass Screen...</td>\n",
       "      <td>MXX</td>\n",
       "      <td>['Cell Phones &amp; Accessories', 'Accessories', '...</td>\n",
       "      <td>$4.55</td>\n",
       "      <td>1</td>\n",
       "    </tr>\n",
       "  </tbody>\n",
       "</table>\n",
       "<p>33365 rows × 13 columns</p>\n",
       "</div>"
      ],
      "text/plain": [
       "       Unnamed: 0  Unnamed: 0.1      reviewerID        asin  \\\n",
       "0               0            54  A1PMGOX24BWDAZ  7887421268   \n",
       "1               1            55  A115GM0PI28KP5  7887421268   \n",
       "2               2            56  A2AOF16F78BQK6  7887421268   \n",
       "3               3            57  A2LFBAQ1CPDWNY  7887421268   \n",
       "4               4            58  A22PJG27JHKWPA  7887421268   \n",
       "...           ...           ...             ...         ...   \n",
       "33360       33360        139311   A9PG9ODPPP31N  B00KMGHPYQ   \n",
       "33361       33361        139312  A1YMNTFLNDYQ1F  B00KMGHPYQ   \n",
       "33362       33362        139313  A3JI7QRZO1QG8X  B00KMGHPYQ   \n",
       "33363       33363        139314  A2HT05OASZO53B  B00KMGHPYQ   \n",
       "33364       33364        139315  A1Y3FEUELH3FTI  B00KMGHPYQ   \n",
       "\n",
       "             reviewerName                                         reviewText  \\\n",
       "0               0902virgo  I loved the case when I first received it but ...   \n",
       "1         California Love  The color is more dark in person, and this isn...   \n",
       "2         C. Paul Douglas  Simple to install and a great way to help prot...   \n",
       "3                 Davonne  The case is pretty good. It dose have some scr...   \n",
       "4                  ddmmt9  This case is afordable and yes it peels very e...   \n",
       "...                   ...                                                ...   \n",
       "33360     Beth Chrisinger  Fit the phone perfectly, Product was just as d...   \n",
       "33361     eyeused2loveher  Love it, makes my Iphone 4s shatterproof, very...   \n",
       "33362   Joyce M. Davidson  Wow!  This is fantastic. I was a little skepti...   \n",
       "33363  Margo J. Jablonski  This  screen protector works greatIt was very ...   \n",
       "33364     Onlinesalesgirl  This is magnificent! Easy to install, Must hav...   \n",
       "\n",
       "       overall                            summary  \\\n",
       "0            2                  Loved it at first   \n",
       "1            4                               Cute   \n",
       "2            5    Simple and Attractive Protector   \n",
       "3            4                          Good Case   \n",
       "4            4  This case is exactly as described   \n",
       "...        ...                                ...   \n",
       "33360        5                      Great Product   \n",
       "33361        5               Nice tempered glass!   \n",
       "33362        5                          Fantastic   \n",
       "33363        5                      great product   \n",
       "33364        5                     A++ for Iphone   \n",
       "\n",
       "                                            product_name    brand  \\\n",
       "0      Black And Pink Leopard Rubberized Snap on Desi...  Generic   \n",
       "1      Black And Pink Leopard Rubberized Snap on Desi...  Generic   \n",
       "2      Black And Pink Leopard Rubberized Snap on Desi...  Generic   \n",
       "3      Black And Pink Leopard Rubberized Snap on Desi...  Generic   \n",
       "4      Black And Pink Leopard Rubberized Snap on Desi...  Generic   \n",
       "...                                                  ...      ...   \n",
       "33360  MXX Shatterproof Premium Tempered Glass Screen...      MXX   \n",
       "33361  MXX Shatterproof Premium Tempered Glass Screen...      MXX   \n",
       "33362  MXX Shatterproof Premium Tempered Glass Screen...      MXX   \n",
       "33363  MXX Shatterproof Premium Tempered Glass Screen...      MXX   \n",
       "33364  MXX Shatterproof Premium Tempered Glass Screen...      MXX   \n",
       "\n",
       "                                                category  price  SENTIMENT  \n",
       "0      ['Cell Phones & Accessories', 'Cases, Holsters...  $5.95          1  \n",
       "1      ['Cell Phones & Accessories', 'Cases, Holsters...  $5.95          1  \n",
       "2      ['Cell Phones & Accessories', 'Cases, Holsters...  $5.95          1  \n",
       "3      ['Cell Phones & Accessories', 'Cases, Holsters...  $5.95          1  \n",
       "4      ['Cell Phones & Accessories', 'Cases, Holsters...  $5.95          0  \n",
       "...                                                  ...    ...        ...  \n",
       "33360  ['Cell Phones & Accessories', 'Accessories', '...  $4.55          1  \n",
       "33361  ['Cell Phones & Accessories', 'Accessories', '...  $4.55          0  \n",
       "33362  ['Cell Phones & Accessories', 'Accessories', '...  $4.55          1  \n",
       "33363  ['Cell Phones & Accessories', 'Accessories', '...  $4.55          1  \n",
       "33364  ['Cell Phones & Accessories', 'Accessories', '...  $4.55          1  \n",
       "\n",
       "[33365 rows x 13 columns]"
      ]
     },
     "execution_count": 2,
     "metadata": {},
     "output_type": "execute_result"
    }
   ],
   "source": [
    "import pandas as pd\n",
    "\n",
    "df = pd.read_csv('sentiment_data.csv')\n",
    "df"
   ]
  },
  {
   "cell_type": "code",
   "execution_count": 20,
   "metadata": {},
   "outputs": [
    {
     "data": {
      "text/plain": [
       "\"The case is nice but it had finger prints all over it i don't think it's new at all maybe Used you can say But i will give this away and order a new Candy hot pink case like this from another Seller So i know for sure this case is brand New I waste my money on an used item never again\""
      ]
     },
     "execution_count": 20,
     "metadata": {},
     "output_type": "execute_result"
    }
   ],
   "source": [
    "df.iloc[19250]['reviewText']"
   ]
  },
  {
   "cell_type": "code",
   "execution_count": 19,
   "metadata": {},
   "outputs": [
    {
     "data": {
      "text/plain": [
       "Unnamed: 0                                                  19250\n",
       "Unnamed: 0.1                                                86424\n",
       "reviewerID                                         A2Y4PAVE9QOVFR\n",
       "asin                                                   B0096BSF1U\n",
       "reviewerName                    Loyal Queen \"*Wifed by the Best*\"\n",
       "reviewText      The case is nice but it had finger prints all ...\n",
       "overall                                                         2\n",
       "summary                                          Nice Case But...\n",
       "product_name    Hot Pink TPU Candy Rubber Skin Case Cover for ...\n",
       "brand                                                   ColorCase\n",
       "category        ['Cell Phones & Accessories', 'Cases, Holsters...\n",
       "price                                                       $4.90\n",
       "SENTIMENT                                                       0\n",
       "Name: 19250, dtype: object"
      ]
     },
     "execution_count": 19,
     "metadata": {},
     "output_type": "execute_result"
    }
   ],
   "source": [
    "df.iloc[19250]"
   ]
  },
  {
   "cell_type": "code",
   "execution_count": 23,
   "metadata": {},
   "outputs": [
    {
     "data": {
      "text/plain": [
       "'This case is afordable and yes it peels very easy but thats to be expected because its a dollor. I bought mine from Electromaster. It snaps on fine for me but if I were to drop my phone the phone would be fine but the case would surely be done for. its only a dollar so do not get your hopes up. it looks great but its for show not for protection. if you want your phone to be protected go the extra mile for an outter box'"
      ]
     },
     "execution_count": 23,
     "metadata": {},
     "output_type": "execute_result"
    }
   ],
   "source": [
    "df.iloc[4]['reviewText']"
   ]
  },
  {
   "cell_type": "code",
   "execution_count": 24,
   "metadata": {},
   "outputs": [
    {
     "data": {
      "text/plain": [
       "Unnamed: 0                                                      4\n",
       "Unnamed: 0.1                                                   58\n",
       "reviewerID                                         A22PJG27JHKWPA\n",
       "asin                                                   7887421268\n",
       "reviewerName                                               ddmmt9\n",
       "reviewText      This case is afordable and yes it peels very e...\n",
       "overall                                                         4\n",
       "summary                         This case is exactly as described\n",
       "product_name    Black And Pink Leopard Rubberized Snap on Desi...\n",
       "brand                                                     Generic\n",
       "category        ['Cell Phones & Accessories', 'Cases, Holsters...\n",
       "price                                                       $5.95\n",
       "SENTIMENT                                                       0\n",
       "Name: 4, dtype: object"
      ]
     },
     "execution_count": 24,
     "metadata": {},
     "output_type": "execute_result"
    }
   ],
   "source": [
    "df.iloc[4]"
   ]
  },
  {
   "cell_type": "code",
   "execution_count": 25,
   "metadata": {},
   "outputs": [
    {
     "data": {
      "text/plain": [
       "'It looked like it was used! It was broken when it got to be the paint job was horrible.I would never get it again'"
      ]
     },
     "execution_count": 25,
     "metadata": {},
     "output_type": "execute_result"
    }
   ],
   "source": [
    "df.iloc[6]['reviewText']"
   ]
  },
  {
   "cell_type": "code",
   "execution_count": 26,
   "metadata": {},
   "outputs": [
    {
     "data": {
      "text/plain": [
       "Unnamed: 0                                                      6\n",
       "Unnamed: 0.1                                                   60\n",
       "reviewerID                                         A3J38WFKNT2MFX\n",
       "asin                                                   7887421268\n",
       "reviewerName                                    Kelly-Ann Johnson\n",
       "reviewText      It looked like it was used! It was broken when...\n",
       "overall                                                         2\n",
       "summary                                   Don't waste your money!\n",
       "product_name    Black And Pink Leopard Rubberized Snap on Desi...\n",
       "brand                                                     Generic\n",
       "category        ['Cell Phones & Accessories', 'Cases, Holsters...\n",
       "price                                                       $5.95\n",
       "SENTIMENT                                                       0\n",
       "Name: 6, dtype: object"
      ]
     },
     "execution_count": 26,
     "metadata": {},
     "output_type": "execute_result"
    }
   ],
   "source": [
    "df.iloc[6]"
   ]
  },
  {
   "cell_type": "code",
   "execution_count": 31,
   "metadata": {},
   "outputs": [
    {
     "data": {
      "text/plain": [
       "'I got this otterbox to hold my valuables at the pool this summer.  It is the perfect size for what I need and it is completely waterproof and crush proof.  I put some paper inside of it and held it under water and it was dry as a bone.  Then I had my 100 pound son stand on it and then me at nearly 200 pounds and it did not crack.'"
      ]
     },
     "execution_count": 31,
     "metadata": {},
     "output_type": "execute_result"
    }
   ],
   "source": [
    "df.iloc[39]['reviewText']"
   ]
  },
  {
   "cell_type": "code",
   "execution_count": 32,
   "metadata": {},
   "outputs": [
    {
     "data": {
      "text/plain": [
       "Unnamed: 0                                                     39\n",
       "Unnamed: 0.1                                                  439\n",
       "reviewerID                                         A2VSNUK7YLRKRE\n",
       "asin                                                   B0000DYUZO\n",
       "reviewerName                     F. Sasso \"Stupidity Should Hurt\"\n",
       "reviewText      I got this otterbox to hold my valuables at th...\n",
       "overall                                                         5\n",
       "summary                                               Great Safe!\n",
       "product_name                           Otter Box 3000 Series Case\n",
       "brand                                                    OtterBox\n",
       "category        ['Cell Phones & Accessories', 'Cases, Holsters...\n",
       "price                                                      $19.99\n",
       "SENTIMENT                                                       1\n",
       "Name: 39, dtype: object"
      ]
     },
     "execution_count": 32,
     "metadata": {},
     "output_type": "execute_result"
    }
   ],
   "source": [
    "df.iloc[39]"
   ]
  },
  {
   "cell_type": "code",
   "execution_count": 3,
   "metadata": {},
   "outputs": [
    {
     "data": {
      "text/plain": [
       "1       Black And Pink Leopard Rubberized Snap on Design Hard Case Faceplate for Sprint Htc Evo 4g   \n",
       "4553    Generic Body ArmorCell Phone Case for iPhone 4/4th Generation - Non-Retail Packaging - Purple\n",
       "5062    OtterBox Universal Defender Case for iPhone 4 (Black Silicone & Black Plastic)               \n",
       "5294    Zebra Stripes Protector Case for HTC EVO Shift 4G                                            \n",
       "Name: product_name, dtype: object"
      ]
     },
     "execution_count": 3,
     "metadata": {},
     "output_type": "execute_result"
    }
   ],
   "source": [
    "pd.set_option('display.max_colwidth',-1)\n",
    "df['product_name'].loc[df['reviewerID']=='A115GM0PI28KP5']"
   ]
  }
 ],
 "metadata": {
  "kernelspec": {
   "display_name": "Python 3",
   "language": "python",
   "name": "python3"
  },
  "language_info": {
   "codemirror_mode": {
    "name": "ipython",
    "version": 3
   },
   "file_extension": ".py",
   "mimetype": "text/x-python",
   "name": "python",
   "nbconvert_exporter": "python",
   "pygments_lexer": "ipython3",
   "version": "3.8.5"
  }
 },
 "nbformat": 4,
 "nbformat_minor": 4
}
